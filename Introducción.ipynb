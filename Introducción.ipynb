{
  "nbformat": 4,
  "nbformat_minor": 0,
  "metadata": {
    "colab": {
      "name": "Introducción",
      "provenance": [],
      "collapsed_sections": []
    },
    "kernelspec": {
      "name": "python3",
      "display_name": "Python 3"
    },
    "language_info": {
      "name": "python"
    }
  },
  "cells": [
    {
      "cell_type": "markdown",
      "source": [
        "Números"
      ],
      "metadata": {
        "id": "kg1y7axV9k4d"
      }
    },
    {
      "cell_type": "code",
      "execution_count": null,
      "metadata": {
        "colab": {
          "base_uri": "https://localhost:8080/"
        },
        "id": "9P6QqJjh3AeQ",
        "outputId": "3807f38a-a352-4182-a8ad-cb62f52e2660"
      },
      "outputs": [
        {
          "output_type": "stream",
          "name": "stdout",
          "text": [
            "3 <class 'int'>\n",
            "6\n",
            "0\n",
            "9\n",
            "27\n",
            "1.0\n"
          ]
        }
      ],
      "source": [
        "x = 3\n",
        "print(x,type(x))\n",
        "print(x+x)\n",
        "print(x-x)\n",
        "print(x*x)\n",
        "print(x**x)\n",
        "print(x/x)"
      ]
    },
    {
      "cell_type": "markdown",
      "source": [
        "Boleanos"
      ],
      "metadata": {
        "id": "qCjnEnpo_eLE"
      }
    },
    {
      "cell_type": "code",
      "source": [
        "t,f = True,False\n",
        "print(t,f,type(t),type(f))\n",
        "print(t and f,t and t,f and f)\n",
        "print(t or f,t or t,f or f)\n",
        "print(not t,not f)\n",
        "print(t != f,not(t != f))  # XOR, XNOR "
      ],
      "metadata": {
        "colab": {
          "base_uri": "https://localhost:8080/"
        },
        "id": "MzAkO3Ek_gsH",
        "outputId": "108894b2-68d2-4650-e1ba-8739f963bfa5"
      },
      "execution_count": null,
      "outputs": [
        {
          "output_type": "stream",
          "name": "stdout",
          "text": [
            "True False <class 'bool'> <class 'bool'>\n",
            "False True False\n",
            "True True False\n",
            "False True\n",
            "True False\n"
          ]
        }
      ]
    },
    {
      "cell_type": "markdown",
      "source": [
        "Cadenas"
      ],
      "metadata": {
        "id": "CuKInHNMBlSv"
      }
    },
    {
      "cell_type": "code",
      "source": [
        "h = 'Hola'\n",
        "m = 'mundo'\n",
        "print(h,m)\n",
        "h2 = ''' Hola\n",
        "mundo\n",
        "'''\n",
        "print(h)\n",
        "print(h2)\n",
        "print(len(h),len(m),len(h2))\n",
        "print(h+' espacio '+m)\n",
        "print('{} {}{}'.format(h,m,2))\n",
        "\n",
        "m1= 'mañana'\n",
        "print(m1.rjust(100).upper())\n",
        "print(m1.capitalize().center(100))\n",
        "print(m1.replace('ñ','n').ljust(100))\n",
        "print('    mundo   '.strip())"
      ],
      "metadata": {
        "colab": {
          "base_uri": "https://localhost:8080/"
        },
        "id": "ib34Cc-xBnQh",
        "outputId": "ef497323-45f0-4f5b-dcb7-d04c8e909d86"
      },
      "execution_count": null,
      "outputs": [
        {
          "output_type": "stream",
          "name": "stdout",
          "text": [
            "Hola mundo\n",
            "Hola\n",
            " Hola\n",
            "mundo\n",
            "\n",
            "4 5 12\n",
            "Hola espacio mundo\n",
            "Hola mundo2\n",
            "                                                                                              MAÑANA\n",
            "                                               Mañana                                               \n",
            "manana                                                                                              \n",
            "mundo\n"
          ]
        }
      ]
    },
    {
      "cell_type": "markdown",
      "source": [
        "Listas"
      ],
      "metadata": {
        "id": "BynGnZ7MGEqD"
      }
    },
    {
      "cell_type": "code",
      "source": [
        "xs = [0,1,2,3,4,5,6,7,8,9]\n",
        "print(len(xs))\n",
        "print(xs)\n",
        "print(xs[0])\n",
        "print(xs[-1])\n",
        "xs[1] = 'texto'\n",
        "print(xs)\n",
        "xs.append('texto al final')\n",
        "print(xs)\n",
        "x = xs.pop()\n",
        "print(x)\n",
        "print(xs)\n",
        "\n",
        "n = list(range(10))\n",
        "print('''\n",
        "''',n)\n",
        "print(n[2:7])\n",
        "print(n[2:])\n",
        "print(n[:7])\n",
        "print(n)"
      ],
      "metadata": {
        "colab": {
          "base_uri": "https://localhost:8080/"
        },
        "id": "_i4GcGetGGMf",
        "outputId": "26c352bc-d911-4b2c-f1ba-146583cc5e56"
      },
      "execution_count": null,
      "outputs": [
        {
          "output_type": "stream",
          "name": "stdout",
          "text": [
            "10\n",
            "[0, 1, 2, 3, 4, 5, 6, 7, 8, 9]\n",
            "0\n",
            "9\n",
            "[0, 'texto', 2, 3, 4, 5, 6, 7, 8, 9]\n",
            "[0, 'texto', 2, 3, 4, 5, 6, 7, 8, 9, 'texto al final']\n",
            "texto al final\n",
            "[0, 'texto', 2, 3, 4, 5, 6, 7, 8, 9]\n",
            "\n",
            " [0, 1, 2, 3, 4, 5, 6, 7, 8, 9]\n",
            "[2, 3, 4, 5, 6]\n",
            "[2, 3, 4, 5, 6, 7, 8, 9]\n",
            "[0, 1, 2, 3, 4, 5, 6]\n",
            "[0, 1, 2, 3, 4, 5, 6, 7, 8, 9]\n"
          ]
        }
      ]
    },
    {
      "cell_type": "markdown",
      "source": [
        "Ciclos"
      ],
      "metadata": {
        "id": "9Mum2HbMI7XK"
      }
    },
    {
      "cell_type": "code",
      "source": [
        "animales = ['gato', 'perro', 'mono','oso','rana']\n",
        "for animal in animales:\n",
        "  print(animal)\n",
        "for animal in enumerate(animales):\n",
        "  print(animal)\n",
        "for n,animal in enumerate(animales):\n",
        "  print(n+1,animal)\n",
        "\n",
        "n = list(range(6))\n",
        "naux = []\n",
        "for x in n:\n",
        "  naux.append(x ** 2)\n",
        "  print(x)\n",
        "print(naux)\n",
        "\n",
        "n = list(range(10))\n",
        "n = [x**2 for x in n]\n",
        "print(n)\n"
      ],
      "metadata": {
        "colab": {
          "base_uri": "https://localhost:8080/"
        },
        "id": "WvS4d67FJfmd",
        "outputId": "9059bd38-779b-4e22-e591-b257b875554d"
      },
      "execution_count": null,
      "outputs": [
        {
          "output_type": "stream",
          "name": "stdout",
          "text": [
            "gato\n",
            "perro\n",
            "mono\n",
            "oso\n",
            "rana\n",
            "(0, 'gato')\n",
            "(1, 'perro')\n",
            "(2, 'mono')\n",
            "(3, 'oso')\n",
            "(4, 'rana')\n",
            "1 gato\n",
            "2 perro\n",
            "3 mono\n",
            "4 oso\n",
            "5 rana\n",
            "0\n",
            "1\n",
            "2\n",
            "3\n",
            "4\n",
            "5\n",
            "[0, 1, 4, 9, 16, 25]\n",
            "[0, 1, 4, 9, 16, 25, 36, 49, 64, 81]\n"
          ]
        }
      ]
    },
    {
      "cell_type": "markdown",
      "source": [
        "Definiciones"
      ],
      "metadata": {
        "id": "jGCWlnhqVTNf"
      }
    },
    {
      "cell_type": "code",
      "source": [
        "import math as m\n",
        "\n",
        "def sign(x):\n",
        "  if x > 0:\n",
        "    return 'Positivo'\n",
        "  elif x < 0:\n",
        "    return 'Negativo'\n",
        "  else:\n",
        "    return 'Cero'\n",
        "  \n",
        "n = [-5,-4,-3,-2,-1,0,1,2,3,4,5]\n",
        "for x in n:\n",
        "  print(sign(x))\n",
        "\n",
        "def hola(name, loud=False):\n",
        "    if loud:\n",
        "        print('HOLA, {}'.format(name.upper()))\n",
        "    else:\n",
        "        print('hola, {}!'.format(name))\n",
        "\n",
        "hola('Carlos')\n",
        "hola('Juan', loud=True)\n",
        "\n",
        "def factorial(x):\n",
        "  if x > 0:\n",
        "    return m.factorial(x)\n",
        "  else:\n",
        "    return 'inválido'\n",
        "\n",
        "n = [-5,-4,-3,-2,-1,0,1,2,3,4,5]\n",
        "for x in n:\n",
        "  print(factorial(x))\n",
        "\n",
        "def cuadrados(x):\n",
        "  return "
      ],
      "metadata": {
        "colab": {
          "base_uri": "https://localhost:8080/"
        },
        "id": "TyaI3PVmVU5k",
        "outputId": "79246cc0-8f1c-4410-d88c-bcfbd52b26af"
      },
      "execution_count": null,
      "outputs": [
        {
          "output_type": "stream",
          "name": "stdout",
          "text": [
            "Negativo\n",
            "Negativo\n",
            "Negativo\n",
            "Negativo\n",
            "Negativo\n",
            "Cero\n",
            "Positivo\n",
            "Positivo\n",
            "Positivo\n",
            "Positivo\n",
            "Positivo\n",
            "hola, Carlos!\n",
            "HOLA, JUAN\n",
            "inválido\n",
            "inválido\n",
            "inválido\n",
            "inválido\n",
            "inválido\n",
            "inválido\n",
            "1\n",
            "2\n",
            "6\n",
            "24\n",
            "120\n",
            "120\n"
          ]
        }
      ]
    }
  ]
}